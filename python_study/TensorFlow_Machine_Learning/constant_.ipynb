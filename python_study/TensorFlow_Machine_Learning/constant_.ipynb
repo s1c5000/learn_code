{
 "cells": [
  {
   "cell_type": "code",
   "execution_count": 1,
   "metadata": {},
   "outputs": [
    {
     "name": "stdout",
     "output_type": "stream",
     "text": [
      "WARNING:tensorflow:From C:\\Users\\LEEMINJUN\\Anaconda3\\lib\\site-packages\\tensorflow_core\\python\\compat\\v2_compat.py:65: disable_resource_variables (from tensorflow.python.ops.variable_scope) is deprecated and will be removed in a future version.\n",
      "Instructions for updating:\n",
      "non-resource variables are not supported in the long term\n"
     ]
    }
   ],
   "source": [
    "import tensorflow.compat.v1 as tf # 그냥 임포트하면 텐서플로우 2.0이여서 오류남\n",
    "tf.disable_v2_behavior() # 다운그레이드 해서 사용"
   ]
  },
  {
   "cell_type": "code",
   "execution_count": 2,
   "metadata": {},
   "outputs": [
    {
     "name": "stdout",
     "output_type": "stream",
     "text": [
      "Tensor(\"a:0\", shape=(), dtype=float32)\n",
      "Tensor(\"add:0\", shape=(), dtype=float32)\n",
      "Tensor(\"Const:0\", shape=(2, 2), dtype=float32)\n",
      "[1.0, 2.0]\n",
      "[[1. 2.]\n",
      " [3. 4.]]\n",
      "[3.0]\n",
      "[[2. 3.]\n",
      " [4. 5.]]\n"
     ]
    }
   ],
   "source": [
    "# 상수 노드 정의\n",
    "a = tf.constant(1.0, name='a') # 상수노드 정의\n",
    "b = tf.constant(2.0, name='b')\n",
    "c = tf.constant([ [1.0, 2.0], [3.0, 4.0] ])\n",
    "\n",
    "print(a)   # 출력값 Tensor(\"a:0\", shape=(), dtype=float32)\n",
    "print(a+b)\n",
    "print(c)\n",
    "\n",
    "\n",
    "# 세션 (session) 을 만들고 노드간의 텐서 연산 실행, 노드간의 데이터이동,연산 실행\n",
    "sess = tf.Session()  \n",
    "\n",
    "print(sess.run([a, b])) # run을 통해 각 노드에 값을 할당한다.\n",
    "print(sess.run(c))\n",
    "print(sess.run([a+b]))\n",
    "print(sess.run(c+1.0))  # broadcast 수행\n",
    "\n",
    "# 세션 close\n",
    "sess.close()"
   ]
  },
  {
   "cell_type": "code",
   "execution_count": null,
   "metadata": {},
   "outputs": [],
   "source": []
  }
 ],
 "metadata": {
  "kernelspec": {
   "display_name": "Python 3",
   "language": "python",
   "name": "python3"
  },
  "language_info": {
   "codemirror_mode": {
    "name": "ipython",
    "version": 3
   },
   "file_extension": ".py",
   "mimetype": "text/x-python",
   "name": "python",
   "nbconvert_exporter": "python",
   "pygments_lexer": "ipython3",
   "version": "3.7.6"
  }
 },
 "nbformat": 4,
 "nbformat_minor": 2
}
