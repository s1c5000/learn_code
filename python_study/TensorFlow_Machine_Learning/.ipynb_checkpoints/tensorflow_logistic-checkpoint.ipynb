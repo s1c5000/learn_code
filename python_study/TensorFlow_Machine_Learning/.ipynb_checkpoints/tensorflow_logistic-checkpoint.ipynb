{
 "cells": [
  {
   "cell_type": "code",
   "execution_count": 1,
   "metadata": {},
   "outputs": [
    {
     "name": "stdout",
     "output_type": "stream",
     "text": [
      "WARNING:tensorflow:From C:\\Users\\LEEMINJUN\\Anaconda3\\lib\\site-packages\\tensorflow_core\\python\\compat\\v2_compat.py:65: disable_resource_variables (from tensorflow.python.ops.variable_scope) is deprecated and will be removed in a future version.\n",
      "Instructions for updating:\n",
      "non-resource variables are not supported in the long term\n"
     ]
    }
   ],
   "source": [
    "import tensorflow.compat.v1 as tf\n",
    "tf.disable_v2_behavior()"
   ]
  },
  {
   "cell_type": "code",
   "execution_count": 2,
   "metadata": {},
   "outputs": [],
   "source": [
    "import numpy as np"
   ]
  },
  {
   "cell_type": "code",
   "execution_count": 3,
   "metadata": {},
   "outputs": [
    {
     "name": "stdout",
     "output_type": "stream",
     "text": [
      "x_data =  (9, 2) , t_data =  (9, 1)\n"
     ]
    }
   ],
   "source": [
    "x_data = np.array([ [2, 4], [4, 11], [6, 6], [8, 5], [10, 7], [12, 16], [14, 8], [16, 3], [18, 7] ])\n",
    "t_data = np.array([0, 0, 0, 0, 1, 1, 1, 1, 1]).reshape(9, 1)\n",
    "print(\"x_data = \", x_data.shape, \", t_data = \", t_data.shape)"
   ]
  },
  {
   "cell_type": "code",
   "execution_count": 4,
   "metadata": {},
   "outputs": [],
   "source": [
    "X = tf.placeholder(tf.float32, [None, 2])  # 2개 입력노드\n",
    "T = tf.placeholder(tf.float32, [None, 1])  # 1개 정답노드\n",
    "\n",
    "W = tf.Variable(tf.random_normal([2, 1]))  # 2X1 가중치노드\n",
    "b = tf.Variable(tf.random_normal([1]))     # 1개 바이어스 노드"
   ]
  },
  {
   "cell_type": "code",
   "execution_count": 5,
   "metadata": {},
   "outputs": [],
   "source": [
    "z = tf.matmul(X, W) + b  # 선형회귀 값 z\n",
    "\n",
    "y = tf.sigmoid(z)    # 시그모이드로 계산 값\n",
    "\n",
    "# 손실함수는 Cross-Entropy \n",
    "loss = -tf.reduce_mean( T*tf.log(y) + (1-T)*tf.log(1-y) )"
   ]
  },
  {
   "cell_type": "code",
   "execution_count": 6,
   "metadata": {},
   "outputs": [],
   "source": [
    "learning_rate = 0.01    # 학습율\n",
    "\n",
    "optimizer = tf.train.GradientDescentOptimizer(learning_rate)\n",
    "\n",
    "train = optimizer.minimize(loss)"
   ]
  },
  {
   "cell_type": "code",
   "execution_count": 7,
   "metadata": {},
   "outputs": [],
   "source": [
    "# 정확성 검사, True if y > 0.5 else False\n",
    "\n",
    "# y shape 은 (9X2) (2X1) = 9X1, 즉 9개의 모든 데이터에 대해 y > 0.5 검사함\n",
    "# 그러므로 predicted 또한 9 개의 1 또는 0 을 가짐\n",
    "predicted = tf.cast(y > 0.5, dtype=tf.float32)  # cast를 이용하여 ture면 1 flase면 0갖는다\n",
    "\n",
    "\n",
    "# predicted 와 T 같으면 True 를 리턴하므로 cast 에 의해서 1로 강제 변환, 그렇지 않으면 0으로 변환해서\n",
    "# accuracy 는 총 9 개의 1 또는 0 을 가짐. 이것을 reduce_mean으로  전체 갯수 9로 나눠서 평균값 구한다.\n",
    "accuracy = tf.reduce_mean(tf.cast(tf.equal(predicted, T), dtype=tf.float32))"
   ]
  },
  {
   "cell_type": "code",
   "execution_count": 8,
   "metadata": {},
   "outputs": [
    {
     "name": "stdout",
     "output_type": "stream",
     "text": [
      "step =  0 , loss_val =  1.0318536\n",
      "step =  500 , loss_val =  0.25593966\n",
      "step =  1000 , loss_val =  0.24001077\n",
      "step =  1500 , loss_val =  0.22638252\n",
      "step =  2000 , loss_val =  0.21459204\n",
      "step =  2500 , loss_val =  0.20429021\n",
      "step =  3000 , loss_val =  0.19520985\n",
      "step =  3500 , loss_val =  0.1871433\n",
      "step =  4000 , loss_val =  0.17992702\n",
      "step =  4500 , loss_val =  0.17343058\n",
      "step =  5000 , loss_val =  0.16754878\n",
      "step =  5500 , loss_val =  0.16219585\n",
      "step =  6000 , loss_val =  0.15730132\n",
      "step =  6500 , loss_val =  0.15280655\n",
      "step =  7000 , loss_val =  0.14866254\n",
      "step =  7500 , loss_val =  0.14482813\n",
      "step =  8000 , loss_val =  0.141268\n",
      "step =  8500 , loss_val =  0.13795239\n",
      "step =  9000 , loss_val =  0.13485551\n",
      "step =  9500 , loss_val =  0.13195513\n",
      "step =  10000 , loss_val =  0.12923194\n",
      "step =  10500 , loss_val =  0.12666906\n",
      "step =  11000 , loss_val =  0.12425181\n",
      "step =  11500 , loss_val =  0.12196711\n",
      "step =  12000 , loss_val =  0.1198036\n",
      "step =  12500 , loss_val =  0.11775102\n",
      "step =  13000 , loss_val =  0.11580034\n",
      "step =  13500 , loss_val =  0.113943495\n",
      "step =  14000 , loss_val =  0.11217324\n",
      "step =  14500 , loss_val =  0.11048309\n",
      "step =  15000 , loss_val =  0.10886712\n",
      "step =  15500 , loss_val =  0.10732009\n",
      "step =  16000 , loss_val =  0.10583722\n",
      "step =  16500 , loss_val =  0.10441419\n",
      "step =  17000 , loss_val =  0.103046924\n",
      "step =  17500 , loss_val =  0.10173182\n",
      "step =  18000 , loss_val =  0.100465804\n",
      "step =  18500 , loss_val =  0.09924557\n",
      "step =  19000 , loss_val =  0.098068565\n",
      "step =  19500 , loss_val =  0.09693213\n",
      "step =  20000 , loss_val =  0.09583399\n",
      "\n",
      "y_val.shape =  (9, 1) , predicted_val =  (9, 1)\n",
      "\n",
      "Accuracy =  1.0\n"
     ]
    }
   ],
   "source": [
    "with  tf.Session()  as sess:\n",
    "    \n",
    "    sess.run(tf.global_variables_initializer())  # 변수 노드(tf.Variable) 초기화\n",
    "\n",
    "    for step in range(20001):\n",
    "      \n",
    "        loss_val, _ = sess.run([loss, train], feed_dict={X: x_data, T: t_data})    \n",
    "        \n",
    "        \n",
    "        if step % 500 == 0:\n",
    "            print(\"step = \", step, \", loss_val = \", loss_val)             \n",
    "    \n",
    "    # Accuracy 확인\n",
    "    y_val, predicted_val, accuracy_val = sess.run([y, predicted, accuracy], feed_dict={X: x_data, T: t_data})\n",
    "    \n",
    "    \n",
    "    print(\"\\ny_val.shape = \", y_val.shape, \", predicted_val = \", predicted_val.shape)    \n",
    "    print(\"\\nAccuracy = \", accuracy_val)"
   ]
  },
  {
   "cell_type": "code",
   "execution_count": null,
   "metadata": {},
   "outputs": [],
   "source": []
  }
 ],
 "metadata": {
  "kernelspec": {
   "display_name": "Python 3",
   "language": "python",
   "name": "python3"
  },
  "language_info": {
   "codemirror_mode": {
    "name": "ipython",
    "version": 3
   },
   "file_extension": ".py",
   "mimetype": "text/x-python",
   "name": "python",
   "nbconvert_exporter": "python",
   "pygments_lexer": "ipython3",
   "version": "3.7.6"
  }
 },
 "nbformat": 4,
 "nbformat_minor": 2
}
