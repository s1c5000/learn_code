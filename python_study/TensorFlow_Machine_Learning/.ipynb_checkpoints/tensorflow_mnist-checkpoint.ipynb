{
 "cells": [
  {
   "cell_type": "code",
   "execution_count": 1,
   "metadata": {},
   "outputs": [
    {
     "name": "stdout",
     "output_type": "stream",
     "text": [
      "WARNING:tensorflow:From C:\\Users\\LEEMINJUN\\Anaconda3\\lib\\site-packages\\tensorflow_core\\python\\compat\\v2_compat.py:65: disable_resource_variables (from tensorflow.python.ops.variable_scope) is deprecated and will be removed in a future version.\n",
      "Instructions for updating:\n",
      "non-resource variables are not supported in the long term\n"
     ]
    }
   ],
   "source": [
    "import tensorflow.compat.v1 as tf\n",
    "tf.disable_v2_behavior()"
   ]
  },
  {
   "cell_type": "code",
   "execution_count": 2,
   "metadata": {},
   "outputs": [],
   "source": [
    "import numpy as np"
   ]
  },
  {
   "cell_type": "code",
   "execution_count": 3,
   "metadata": {},
   "outputs": [
    {
     "name": "stdout",
     "output_type": "stream",
     "text": [
      "training_data.shape =  (60000, 785)  ,  test_data.shape =  (10000, 785)\n",
      "training_data[0,0] =  5.0 ,  test_data[0,0] =  7.0\n",
      "len(training_data[0]) =  785 ,  len(test_data[0]) =  785\n"
     ]
    }
   ],
   "source": [
    "# 0~9 숫자 이미지가 784개의 숫자 (28X28) 로 구성되어 있는 training data 읽어옴\n",
    "training_data = np.loadtxt('C:/Users/LEEMINJUN/python_study/TensorFlow_Machine_Learning/mnist_train.csv',\n",
    " delimiter=',', dtype=np.float32)\n",
    "\n",
    "# 0~9 숫자 이미지가 784개의 숫자 (28X28) 로 구성되어 있는 test data 읽어옴\n",
    "test_data = np.loadtxt('C:/Users/LEEMINJUN/python_study/TensorFlow_Machine_Learning/mnist_test.csv',\n",
    " delimiter=',', dtype=np.float32)\n",
    "print(\"training_data.shape = \", training_data.shape, \" ,  test_data.shape = \", test_data.shape)\n",
    "print(\"training_data[0,0] = \", training_data[0,0], \",  test_data[0,0] = \", test_data[0,0])\n",
    "print(\"len(training_data[0]) = \", len(training_data[0]), \",  len(test_data[0]) = \", len(test_data[0]))"
   ]
  },
  {
   "cell_type": "code",
   "execution_count": 4,
   "metadata": {},
   "outputs": [
    {
     "name": "stdout",
     "output_type": "stream",
     "text": [
      "(60000, 784) (60000, 10) [0. 0. 0. 0. 0. 1. 0. 0. 0. 0.]\n",
      "(10000, 784) (10000, 10) [0. 0. 0. 0. 0. 0. 0. 1. 0. 0.]\n"
     ]
    }
   ],
   "source": [
    "train_label_contain, train_image = np.split(training_data,[1],axis = 1)\n",
    "train_label = np.zeros((len(training_data),10), dtype=float)\n",
    "\n",
    "test_label_contain, test_image = np.split(test_data,[1],axis = 1)\n",
    "test_label = np.zeros((len(test_data),10), dtype = float)\n",
    "\n",
    "for step in range(60000):\n",
    "    train_label[step,int(train_label_contain[step])] = 1.0\n",
    "print(train_image.shape, train_label.shape, train_label[0])\n",
    "\n",
    "for step in range(10000):\n",
    "    test_label[step, int(test_label_contain[step])] = 1.0\n",
    "print(test_image.shape, test_label.shape, test_label[0])"
   ]
  },
  {
   "cell_type": "code",
   "execution_count": 24,
   "metadata": {},
   "outputs": [],
   "source": [
    "# 입력노드, 은닉노드, 출력노드, 학습율, 반복횟수, 배치 개수 등 설정\n",
    "learning_rate = 0.3  # 학습율\n",
    "epochs = 100            # 반복횟수\n",
    "batch_size = 100      # 한번에 입력으로 주어지는 MNIST 개수\n",
    "\n",
    "input_nodes = 784     # 입력노드 개수\n",
    "hidden_nodes = 100    # 은닉노드 개수\n",
    "output_nodes = 10     # 출력노드 개수"
   ]
  },
  {
   "cell_type": "code",
   "execution_count": 25,
   "metadata": {},
   "outputs": [],
   "source": [
    "# 입력과 출력을 위한 플레이스홀더 정의\n",
    "X = tf.placeholder(tf.float32, [None, input_nodes])  \n",
    "T = tf.placeholder(tf.float32, [None, output_nodes])  \n",
    "\n",
    "W2 = tf.Variable(tf.random_normal([input_nodes, hidden_nodes]))  # 은닉층 가중치 노드\n",
    "b2 = tf.Variable(tf.random_normal([hidden_nodes]))               # 은닉층 바이어스 노드\n",
    "\n",
    "W3 = tf.Variable(tf.random_normal([hidden_nodes, output_nodes])) # 출력층 가중치 노드\n",
    "b3 = tf.Variable(tf.random_normal([output_nodes]))               # 출력층 바이어스 노드"
   ]
  },
  {
   "cell_type": "code",
   "execution_count": 26,
   "metadata": {},
   "outputs": [],
   "source": [
    "Z2 = tf.matmul(X, W2) + b2    # 선형회귀 선형회귀 값 Z2\n",
    "A2 = tf.nn.relu(Z2)           # 은닉층 출력 값 A2, sigmoid 대신 relu 사용\n",
    "\n",
    "# 출력층 선형회귀  값 Z3, 즉 softmax 에 들어가는 입력 값\n",
    "Z3 = logits = tf.matmul(A2, W3) + b3   \n",
    "\n",
    "y = A3 = tf.nn.softmax(Z3)"
   ]
  },
  {
   "cell_type": "code",
   "execution_count": 27,
   "metadata": {},
   "outputs": [],
   "source": [
    "loss = tf.reduce_mean( tf.nn.softmax_cross_entropy_with_logits_v2(logits=Z3, labels=T) )#Z3과 T와의 손실함수계산\n",
    "\n",
    "optimizer = tf.train.GradientDescentOptimizer(learning_rate) # 경사하강법\n",
    "\n",
    "train = optimizer.minimize(loss)"
   ]
  },
  {
   "cell_type": "code",
   "execution_count": 28,
   "metadata": {},
   "outputs": [],
   "source": [
    "# batch_size X 10 데이터에 대해 argmax를 통해 행단위로 비교함\n",
    "predicted_val = tf.equal( tf.argmax(A3, 1), tf.argmax(T, 1) )\n",
    "\n",
    "# batch_size X 10 의 True, False 를 1 또는 0 으로 변환\n",
    "accuracy = tf.reduce_mean(tf.cast(predicted_val, dtype=tf.float32))"
   ]
  },
  {
   "cell_type": "code",
   "execution_count": 30,
   "metadata": {},
   "outputs": [
    {
     "name": "stdout",
     "output_type": "stream",
     "text": [
      "epochs =  0 step =  0 , loss_val =  22533.775 [1. 0. 0. 0. 0. 0. 0. 0. 0. 0.] Tensor(\"Placeholder_3:0\", shape=(?, 10), dtype=float32)\n",
      "epochs =  0 step =  100 , loss_val =  2.2922287 [0. 0. 0. 0. 0. 1. 0. 0. 0. 0.] Tensor(\"Placeholder_3:0\", shape=(?, 10), dtype=float32)\n",
      "epochs =  0 step =  200 , loss_val =  2.3084533 [0. 0. 0. 0. 0. 0. 0. 1. 0. 0.] Tensor(\"Placeholder_3:0\", shape=(?, 10), dtype=float32)\n",
      "epochs =  0 step =  300 , loss_val =  2.3038583 [1. 0. 0. 0. 0. 0. 0. 0. 0. 0.] Tensor(\"Placeholder_3:0\", shape=(?, 10), dtype=float32)\n",
      "epochs =  0 step =  400 , loss_val =  2.3080115 [1. 0. 0. 0. 0. 0. 0. 0. 0. 0.] Tensor(\"Placeholder_3:0\", shape=(?, 10), dtype=float32)\n",
      "epochs =  0 step =  500 , loss_val =  2.2945807 [0. 0. 0. 0. 1. 0. 0. 0. 0. 0.] Tensor(\"Placeholder_3:0\", shape=(?, 10), dtype=float32)\n",
      "epochs =  1 step =  0 , loss_val =  2.3067217 [0. 0. 0. 0. 0. 0. 0. 0. 1. 0.] Tensor(\"Placeholder_3:0\", shape=(?, 10), dtype=float32)\n",
      "epochs =  1 step =  100 , loss_val =  2.3000262 [0. 1. 0. 0. 0. 0. 0. 0. 0. 0.] Tensor(\"Placeholder_3:0\", shape=(?, 10), dtype=float32)\n",
      "epochs =  1 step =  200 , loss_val =  2.2959554 [0. 0. 0. 0. 0. 0. 0. 0. 1. 0.] Tensor(\"Placeholder_3:0\", shape=(?, 10), dtype=float32)\n",
      "epochs =  1 step =  300 , loss_val =  2.2938461 [0. 1. 0. 0. 0. 0. 0. 0. 0. 0.] Tensor(\"Placeholder_3:0\", shape=(?, 10), dtype=float32)\n",
      "epochs =  1 step =  400 , loss_val =  2.302204 [0. 0. 0. 0. 0. 0. 0. 0. 0. 1.] Tensor(\"Placeholder_3:0\", shape=(?, 10), dtype=float32)\n",
      "epochs =  1 step =  500 , loss_val =  2.3085907 [0. 0. 0. 0. 0. 0. 1. 0. 0. 0.] Tensor(\"Placeholder_3:0\", shape=(?, 10), dtype=float32)\n",
      "epochs =  2 step =  0 , loss_val =  2.2993171 [0. 0. 0. 0. 0. 1. 0. 0. 0. 0.] Tensor(\"Placeholder_3:0\", shape=(?, 10), dtype=float32)\n",
      "epochs =  2 step =  100 , loss_val =  2.3022137 [0. 0. 0. 0. 0. 1. 0. 0. 0. 0.] Tensor(\"Placeholder_3:0\", shape=(?, 10), dtype=float32)\n",
      "epochs =  2 step =  200 , loss_val =  2.3106759 [0. 1. 0. 0. 0. 0. 0. 0. 0. 0.] Tensor(\"Placeholder_3:0\", shape=(?, 10), dtype=float32)\n",
      "epochs =  2 step =  300 , loss_val =  2.2916126 [0. 0. 0. 0. 0. 0. 1. 0. 0. 0.] Tensor(\"Placeholder_3:0\", shape=(?, 10), dtype=float32)\n",
      "epochs =  2 step =  400 , loss_val =  2.3034768 [0. 0. 0. 0. 0. 0. 0. 1. 0. 0.] Tensor(\"Placeholder_3:0\", shape=(?, 10), dtype=float32)\n",
      "epochs =  2 step =  500 , loss_val =  2.3000355 [0. 0. 0. 0. 0. 0. 0. 0. 1. 0.] Tensor(\"Placeholder_3:0\", shape=(?, 10), dtype=float32)\n",
      "epochs =  3 step =  0 , loss_val =  2.2969375 [0. 0. 0. 0. 0. 0. 0. 0. 0. 1.] Tensor(\"Placeholder_3:0\", shape=(?, 10), dtype=float32)\n",
      "epochs =  3 step =  100 , loss_val =  2.304483 [0. 0. 0. 0. 0. 0. 0. 1. 0. 0.] Tensor(\"Placeholder_3:0\", shape=(?, 10), dtype=float32)\n",
      "epochs =  3 step =  200 , loss_val =  2.2976987 [0. 0. 0. 0. 0. 0. 0. 1. 0. 0.] Tensor(\"Placeholder_3:0\", shape=(?, 10), dtype=float32)\n",
      "epochs =  3 step =  300 , loss_val =  2.3100011 [0. 0. 0. 0. 1. 0. 0. 0. 0. 0.] Tensor(\"Placeholder_3:0\", shape=(?, 10), dtype=float32)\n",
      "epochs =  3 step =  400 , loss_val =  2.3003068 [0. 0. 0. 0. 0. 0. 0. 1. 0. 0.] Tensor(\"Placeholder_3:0\", shape=(?, 10), dtype=float32)\n",
      "epochs =  3 step =  500 , loss_val =  2.2973309 [0. 0. 0. 0. 0. 0. 0. 0. 0. 1.] Tensor(\"Placeholder_3:0\", shape=(?, 10), dtype=float32)\n",
      "epochs =  4 step =  0 , loss_val =  2.3064501 [0. 0. 0. 0. 1. 0. 0. 0. 0. 0.] Tensor(\"Placeholder_3:0\", shape=(?, 10), dtype=float32)\n",
      "epochs =  4 step =  100 , loss_val =  2.2978907 [0. 0. 0. 0. 0. 0. 0. 0. 0. 1.] Tensor(\"Placeholder_3:0\", shape=(?, 10), dtype=float32)\n",
      "epochs =  4 step =  200 , loss_val =  2.3029778 [0. 0. 0. 0. 0. 0. 0. 0. 1. 0.] Tensor(\"Placeholder_3:0\", shape=(?, 10), dtype=float32)\n",
      "epochs =  4 step =  300 , loss_val =  2.307653 [0. 0. 0. 1. 0. 0. 0. 0. 0. 0.] Tensor(\"Placeholder_3:0\", shape=(?, 10), dtype=float32)\n",
      "epochs =  4 step =  400 , loss_val =  2.29016 [0. 0. 0. 0. 0. 0. 0. 0. 0. 1.] Tensor(\"Placeholder_3:0\", shape=(?, 10), dtype=float32)\n",
      "epochs =  4 step =  500 , loss_val =  2.2998872 [0. 0. 0. 0. 0. 0. 0. 0. 1. 0.] Tensor(\"Placeholder_3:0\", shape=(?, 10), dtype=float32)\n",
      "epochs =  5 step =  0 , loss_val =  2.3076203 [0. 0. 0. 0. 0. 0. 0. 0. 1. 0.] Tensor(\"Placeholder_3:0\", shape=(?, 10), dtype=float32)\n",
      "epochs =  5 step =  100 , loss_val =  2.3149765 [1. 0. 0. 0. 0. 0. 0. 0. 0. 0.] Tensor(\"Placeholder_3:0\", shape=(?, 10), dtype=float32)\n",
      "epochs =  5 step =  200 , loss_val =  2.3124232 [0. 1. 0. 0. 0. 0. 0. 0. 0. 0.] Tensor(\"Placeholder_3:0\", shape=(?, 10), dtype=float32)\n",
      "epochs =  5 step =  300 , loss_val =  2.2947836 [0. 0. 0. 0. 1. 0. 0. 0. 0. 0.] Tensor(\"Placeholder_3:0\", shape=(?, 10), dtype=float32)\n",
      "epochs =  5 step =  400 , loss_val =  2.3012662 [0. 0. 0. 0. 0. 0. 1. 0. 0. 0.] Tensor(\"Placeholder_3:0\", shape=(?, 10), dtype=float32)\n",
      "epochs =  5 step =  500 , loss_val =  2.3093066 [0. 1. 0. 0. 0. 0. 0. 0. 0. 0.] Tensor(\"Placeholder_3:0\", shape=(?, 10), dtype=float32)\n",
      "epochs =  6 step =  0 , loss_val =  2.2911634 [0. 0. 0. 0. 0. 0. 0. 0. 1. 0.] Tensor(\"Placeholder_3:0\", shape=(?, 10), dtype=float32)\n",
      "epochs =  6 step =  100 , loss_val =  2.292253 [0. 1. 0. 0. 0. 0. 0. 0. 0. 0.] Tensor(\"Placeholder_3:0\", shape=(?, 10), dtype=float32)\n",
      "epochs =  6 step =  200 , loss_val =  2.310595 [0. 0. 0. 0. 1. 0. 0. 0. 0. 0.] Tensor(\"Placeholder_3:0\", shape=(?, 10), dtype=float32)\n",
      "epochs =  6 step =  300 , loss_val =  2.3044143 [0. 0. 0. 0. 0. 0. 1. 0. 0. 0.] Tensor(\"Placeholder_3:0\", shape=(?, 10), dtype=float32)\n",
      "epochs =  6 step =  400 , loss_val =  2.2990983 [1. 0. 0. 0. 0. 0. 0. 0. 0. 0.] Tensor(\"Placeholder_3:0\", shape=(?, 10), dtype=float32)\n",
      "epochs =  6 step =  500 , loss_val =  2.2957428 [0. 0. 0. 0. 0. 0. 1. 0. 0. 0.] Tensor(\"Placeholder_3:0\", shape=(?, 10), dtype=float32)\n",
      "epochs =  7 step =  0 , loss_val =  2.2949119 [0. 0. 0. 0. 0. 1. 0. 0. 0. 0.] Tensor(\"Placeholder_3:0\", shape=(?, 10), dtype=float32)\n",
      "epochs =  7 step =  100 , loss_val =  2.29155 [0. 0. 0. 0. 1. 0. 0. 0. 0. 0.] Tensor(\"Placeholder_3:0\", shape=(?, 10), dtype=float32)\n",
      "epochs =  7 step =  200 , loss_val =  2.3100188 [0. 0. 0. 0. 0. 0. 0. 0. 0. 1.] Tensor(\"Placeholder_3:0\", shape=(?, 10), dtype=float32)\n",
      "epochs =  7 step =  300 , loss_val =  2.299395 [0. 1. 0. 0. 0. 0. 0. 0. 0. 0.] Tensor(\"Placeholder_3:0\", shape=(?, 10), dtype=float32)\n",
      "epochs =  7 step =  400 , loss_val =  2.301355 [0. 0. 0. 1. 0. 0. 0. 0. 0. 0.] Tensor(\"Placeholder_3:0\", shape=(?, 10), dtype=float32)\n",
      "epochs =  7 step =  500 , loss_val =  2.3062935 [0. 1. 0. 0. 0. 0. 0. 0. 0. 0.] Tensor(\"Placeholder_3:0\", shape=(?, 10), dtype=float32)\n",
      "epochs =  8 step =  0 , loss_val =  2.3116446 [0. 0. 0. 0. 0. 0. 1. 0. 0. 0.] Tensor(\"Placeholder_3:0\", shape=(?, 10), dtype=float32)\n",
      "epochs =  8 step =  100 , loss_val =  2.307689 [0. 0. 1. 0. 0. 0. 0. 0. 0. 0.] Tensor(\"Placeholder_3:0\", shape=(?, 10), dtype=float32)\n",
      "epochs =  8 step =  200 , loss_val =  2.3035305 [0. 0. 0. 0. 0. 0. 0. 0. 1. 0.] Tensor(\"Placeholder_3:0\", shape=(?, 10), dtype=float32)\n",
      "epochs =  8 step =  300 , loss_val =  2.2861533 [1. 0. 0. 0. 0. 0. 0. 0. 0. 0.] Tensor(\"Placeholder_3:0\", shape=(?, 10), dtype=float32)\n",
      "epochs =  8 step =  400 , loss_val =  2.3076348 [1. 0. 0. 0. 0. 0. 0. 0. 0. 0.] Tensor(\"Placeholder_3:0\", shape=(?, 10), dtype=float32)\n",
      "epochs =  8 step =  500 , loss_val =  2.3098419 [0. 0. 0. 0. 0. 1. 0. 0. 0. 0.] Tensor(\"Placeholder_3:0\", shape=(?, 10), dtype=float32)\n",
      "epochs =  9 step =  0 , loss_val =  2.3070884 [0. 0. 0. 0. 0. 0. 0. 0. 0. 1.] Tensor(\"Placeholder_3:0\", shape=(?, 10), dtype=float32)\n",
      "epochs =  9 step =  100 , loss_val =  2.3032072 [0. 1. 0. 0. 0. 0. 0. 0. 0. 0.] Tensor(\"Placeholder_3:0\", shape=(?, 10), dtype=float32)\n",
      "epochs =  9 step =  200 , loss_val =  2.3065906 [0. 0. 0. 0. 0. 0. 0. 1. 0. 0.] Tensor(\"Placeholder_3:0\", shape=(?, 10), dtype=float32)\n",
      "epochs =  9 step =  300 , loss_val =  2.3077009 [0. 1. 0. 0. 0. 0. 0. 0. 0. 0.] Tensor(\"Placeholder_3:0\", shape=(?, 10), dtype=float32)\n",
      "epochs =  9 step =  400 , loss_val =  2.2993827 [0. 0. 0. 0. 0. 0. 0. 0. 1. 0.] Tensor(\"Placeholder_3:0\", shape=(?, 10), dtype=float32)\n",
      "epochs =  9 step =  500 , loss_val =  2.3075938 [1. 0. 0. 0. 0. 0. 0. 0. 0. 0.] Tensor(\"Placeholder_3:0\", shape=(?, 10), dtype=float32)\n",
      "epochs =  10 step =  0 , loss_val =  2.304028 [0. 0. 0. 0. 0. 0. 0. 1. 0. 0.] Tensor(\"Placeholder_3:0\", shape=(?, 10), dtype=float32)\n"
     ]
    },
    {
     "name": "stdout",
     "output_type": "stream",
     "text": [
      "epochs =  10 step =  100 , loss_val =  2.293552 [0. 0. 0. 0. 1. 0. 0. 0. 0. 0.] Tensor(\"Placeholder_3:0\", shape=(?, 10), dtype=float32)\n",
      "epochs =  10 step =  200 , loss_val =  2.3076136 [0. 0. 0. 0. 0. 0. 0. 1. 0. 0.] Tensor(\"Placeholder_3:0\", shape=(?, 10), dtype=float32)\n",
      "epochs =  10 step =  300 , loss_val =  2.3052208 [0. 0. 0. 0. 0. 0. 0. 1. 0. 0.] Tensor(\"Placeholder_3:0\", shape=(?, 10), dtype=float32)\n",
      "epochs =  10 step =  400 , loss_val =  2.3043706 [0. 0. 0. 0. 0. 0. 0. 0. 0. 1.] Tensor(\"Placeholder_3:0\", shape=(?, 10), dtype=float32)\n",
      "epochs =  10 step =  500 , loss_val =  2.305488 [1. 0. 0. 0. 0. 0. 0. 0. 0. 0.] Tensor(\"Placeholder_3:0\", shape=(?, 10), dtype=float32)\n",
      "epochs =  11 step =  0 , loss_val =  2.2944672 [0. 0. 0. 1. 0. 0. 0. 0. 0. 0.] Tensor(\"Placeholder_3:0\", shape=(?, 10), dtype=float32)\n",
      "epochs =  11 step =  100 , loss_val =  2.3015194 [0. 0. 0. 1. 0. 0. 0. 0. 0. 0.] Tensor(\"Placeholder_3:0\", shape=(?, 10), dtype=float32)\n",
      "epochs =  11 step =  200 , loss_val =  2.3015764 [0. 1. 0. 0. 0. 0. 0. 0. 0. 0.] Tensor(\"Placeholder_3:0\", shape=(?, 10), dtype=float32)\n",
      "epochs =  11 step =  300 , loss_val =  2.3032198 [0. 0. 0. 0. 0. 1. 0. 0. 0. 0.] Tensor(\"Placeholder_3:0\", shape=(?, 10), dtype=float32)\n",
      "epochs =  11 step =  400 , loss_val =  2.3087032 [0. 0. 0. 0. 0. 0. 0. 0. 1. 0.] Tensor(\"Placeholder_3:0\", shape=(?, 10), dtype=float32)\n",
      "epochs =  11 step =  500 , loss_val =  2.2987194 [0. 0. 0. 1. 0. 0. 0. 0. 0. 0.] Tensor(\"Placeholder_3:0\", shape=(?, 10), dtype=float32)\n",
      "epochs =  12 step =  0 , loss_val =  2.2976077 [0. 0. 0. 0. 0. 1. 0. 0. 0. 0.] Tensor(\"Placeholder_3:0\", shape=(?, 10), dtype=float32)\n",
      "epochs =  12 step =  100 , loss_val =  2.297695 [0. 0. 0. 1. 0. 0. 0. 0. 0. 0.] Tensor(\"Placeholder_3:0\", shape=(?, 10), dtype=float32)\n",
      "epochs =  12 step =  200 , loss_val =  2.2927217 [0. 0. 0. 0. 0. 0. 0. 0. 0. 1.] Tensor(\"Placeholder_3:0\", shape=(?, 10), dtype=float32)\n",
      "epochs =  12 step =  300 , loss_val =  2.300168 [0. 0. 0. 0. 1. 0. 0. 0. 0. 0.] Tensor(\"Placeholder_3:0\", shape=(?, 10), dtype=float32)\n",
      "epochs =  12 step =  400 , loss_val =  2.3016913 [0. 0. 0. 0. 0. 1. 0. 0. 0. 0.] Tensor(\"Placeholder_3:0\", shape=(?, 10), dtype=float32)\n",
      "epochs =  12 step =  500 , loss_val =  2.2935388 [0. 0. 1. 0. 0. 0. 0. 0. 0. 0.] Tensor(\"Placeholder_3:0\", shape=(?, 10), dtype=float32)\n",
      "epochs =  13 step =  0 , loss_val =  2.3084543 [0. 0. 0. 0. 0. 0. 1. 0. 0. 0.] Tensor(\"Placeholder_3:0\", shape=(?, 10), dtype=float32)\n",
      "epochs =  13 step =  100 , loss_val =  2.2978554 [0. 0. 1. 0. 0. 0. 0. 0. 0. 0.] Tensor(\"Placeholder_3:0\", shape=(?, 10), dtype=float32)\n",
      "epochs =  13 step =  200 , loss_val =  2.2984123 [0. 0. 0. 0. 0. 0. 0. 0. 0. 1.] Tensor(\"Placeholder_3:0\", shape=(?, 10), dtype=float32)\n",
      "epochs =  13 step =  300 , loss_val =  2.301441 [0. 0. 0. 0. 0. 0. 0. 0. 1. 0.] Tensor(\"Placeholder_3:0\", shape=(?, 10), dtype=float32)\n",
      "epochs =  13 step =  400 , loss_val =  2.2969272 [0. 0. 0. 0. 0. 0. 0. 0. 1. 0.] Tensor(\"Placeholder_3:0\", shape=(?, 10), dtype=float32)\n",
      "epochs =  13 step =  500 , loss_val =  2.2933226 [0. 0. 0. 0. 0. 0. 0. 0. 0. 1.] Tensor(\"Placeholder_3:0\", shape=(?, 10), dtype=float32)\n",
      "epochs =  14 step =  0 , loss_val =  2.3019407 [0. 0. 0. 0. 0. 0. 0. 0. 1. 0.] Tensor(\"Placeholder_3:0\", shape=(?, 10), dtype=float32)\n",
      "epochs =  14 step =  100 , loss_val =  2.303464 [0. 0. 0. 0. 0. 0. 0. 0. 0. 1.] Tensor(\"Placeholder_3:0\", shape=(?, 10), dtype=float32)\n",
      "epochs =  14 step =  200 , loss_val =  2.29056 [0. 0. 0. 1. 0. 0. 0. 0. 0. 0.] Tensor(\"Placeholder_3:0\", shape=(?, 10), dtype=float32)\n",
      "epochs =  14 step =  300 , loss_val =  2.2924304 [0. 0. 0. 0. 0. 0. 1. 0. 0. 0.] Tensor(\"Placeholder_3:0\", shape=(?, 10), dtype=float32)\n",
      "epochs =  14 step =  400 , loss_val =  2.3013675 [0. 0. 0. 0. 0. 1. 0. 0. 0. 0.] Tensor(\"Placeholder_3:0\", shape=(?, 10), dtype=float32)\n",
      "epochs =  14 step =  500 , loss_val =  2.3140495 [0. 0. 0. 0. 0. 0. 0. 0. 0. 1.] Tensor(\"Placeholder_3:0\", shape=(?, 10), dtype=float32)\n",
      "epochs =  15 step =  0 , loss_val =  2.2977085 [1. 0. 0. 0. 0. 0. 0. 0. 0. 0.] Tensor(\"Placeholder_3:0\", shape=(?, 10), dtype=float32)\n",
      "epochs =  15 step =  100 , loss_val =  2.3008585 [0. 0. 1. 0. 0. 0. 0. 0. 0. 0.] Tensor(\"Placeholder_3:0\", shape=(?, 10), dtype=float32)\n",
      "epochs =  15 step =  200 , loss_val =  2.296963 [0. 0. 0. 0. 0. 1. 0. 0. 0. 0.] Tensor(\"Placeholder_3:0\", shape=(?, 10), dtype=float32)\n",
      "epochs =  15 step =  300 , loss_val =  2.3017645 [0. 0. 0. 0. 0. 0. 0. 0. 1. 0.] Tensor(\"Placeholder_3:0\", shape=(?, 10), dtype=float32)\n",
      "epochs =  15 step =  400 , loss_val =  2.2961755 [0. 0. 0. 0. 0. 0. 0. 0. 0. 1.] Tensor(\"Placeholder_3:0\", shape=(?, 10), dtype=float32)\n",
      "epochs =  15 step =  500 , loss_val =  2.3033588 [0. 0. 0. 0. 0. 0. 1. 0. 0. 0.] Tensor(\"Placeholder_3:0\", shape=(?, 10), dtype=float32)\n",
      "epochs =  16 step =  0 , loss_val =  2.3062103 [0. 0. 0. 0. 0. 0. 0. 1. 0. 0.] Tensor(\"Placeholder_3:0\", shape=(?, 10), dtype=float32)\n",
      "epochs =  16 step =  100 , loss_val =  2.294488 [1. 0. 0. 0. 0. 0. 0. 0. 0. 0.] Tensor(\"Placeholder_3:0\", shape=(?, 10), dtype=float32)\n",
      "epochs =  16 step =  200 , loss_val =  2.3059075 [0. 0. 0. 0. 0. 0. 0. 1. 0. 0.] Tensor(\"Placeholder_3:0\", shape=(?, 10), dtype=float32)\n",
      "epochs =  16 step =  300 , loss_val =  2.296753 [0. 0. 0. 1. 0. 0. 0. 0. 0. 0.] Tensor(\"Placeholder_3:0\", shape=(?, 10), dtype=float32)\n",
      "epochs =  16 step =  400 , loss_val =  2.3127658 [1. 0. 0. 0. 0. 0. 0. 0. 0. 0.] Tensor(\"Placeholder_3:0\", shape=(?, 10), dtype=float32)\n",
      "epochs =  16 step =  500 , loss_val =  2.3061805 [1. 0. 0. 0. 0. 0. 0. 0. 0. 0.] Tensor(\"Placeholder_3:0\", shape=(?, 10), dtype=float32)\n",
      "epochs =  17 step =  0 , loss_val =  2.3031287 [0. 1. 0. 0. 0. 0. 0. 0. 0. 0.] Tensor(\"Placeholder_3:0\", shape=(?, 10), dtype=float32)\n",
      "epochs =  17 step =  100 , loss_val =  2.2995286 [0. 0. 0. 0. 0. 0. 0. 1. 0. 0.] Tensor(\"Placeholder_3:0\", shape=(?, 10), dtype=float32)\n",
      "epochs =  17 step =  200 , loss_val =  2.3040745 [0. 0. 0. 0. 0. 0. 0. 0. 0. 1.] Tensor(\"Placeholder_3:0\", shape=(?, 10), dtype=float32)\n",
      "epochs =  17 step =  300 , loss_val =  2.2966628 [0. 0. 0. 0. 0. 0. 0. 1. 0. 0.] Tensor(\"Placeholder_3:0\", shape=(?, 10), dtype=float32)\n",
      "epochs =  17 step =  400 , loss_val =  2.3067772 [0. 0. 0. 0. 0. 0. 0. 0. 0. 1.] Tensor(\"Placeholder_3:0\", shape=(?, 10), dtype=float32)\n",
      "epochs =  17 step =  500 , loss_val =  2.3099833 [0. 0. 0. 0. 1. 0. 0. 0. 0. 0.] Tensor(\"Placeholder_3:0\", shape=(?, 10), dtype=float32)\n",
      "epochs =  18 step =  0 , loss_val =  2.3051832 [0. 0. 0. 0. 1. 0. 0. 0. 0. 0.] Tensor(\"Placeholder_3:0\", shape=(?, 10), dtype=float32)\n",
      "epochs =  18 step =  100 , loss_val =  2.3044388 [0. 0. 0. 1. 0. 0. 0. 0. 0. 0.] Tensor(\"Placeholder_3:0\", shape=(?, 10), dtype=float32)\n",
      "epochs =  18 step =  200 , loss_val =  2.299982 [0. 1. 0. 0. 0. 0. 0. 0. 0. 0.] Tensor(\"Placeholder_3:0\", shape=(?, 10), dtype=float32)\n",
      "epochs =  18 step =  300 , loss_val =  2.290974 [0. 1. 0. 0. 0. 0. 0. 0. 0. 0.] Tensor(\"Placeholder_3:0\", shape=(?, 10), dtype=float32)\n",
      "epochs =  18 step =  400 , loss_val =  2.3027048 [0. 1. 0. 0. 0. 0. 0. 0. 0. 0.] Tensor(\"Placeholder_3:0\", shape=(?, 10), dtype=float32)\n",
      "epochs =  18 step =  500 , loss_val =  2.2959344 [0. 0. 0. 0. 0. 0. 0. 0. 1. 0.] Tensor(\"Placeholder_3:0\", shape=(?, 10), dtype=float32)\n",
      "epochs =  19 step =  0 , loss_val =  2.3031697 [0. 0. 0. 0. 0. 0. 1. 0. 0. 0.] Tensor(\"Placeholder_3:0\", shape=(?, 10), dtype=float32)\n",
      "epochs =  19 step =  100 , loss_val =  2.2989032 [0. 0. 0. 0. 0. 0. 1. 0. 0. 0.] Tensor(\"Placeholder_3:0\", shape=(?, 10), dtype=float32)\n",
      "epochs =  19 step =  200 , loss_val =  2.292119 [0. 0. 0. 0. 0. 1. 0. 0. 0. 0.] Tensor(\"Placeholder_3:0\", shape=(?, 10), dtype=float32)\n",
      "epochs =  19 step =  300 , loss_val =  2.295558 [0. 1. 0. 0. 0. 0. 0. 0. 0. 0.] Tensor(\"Placeholder_3:0\", shape=(?, 10), dtype=float32)\n",
      "epochs =  19 step =  400 , loss_val =  2.3171935 [0. 0. 0. 0. 0. 0. 0. 0. 1. 0.] Tensor(\"Placeholder_3:0\", shape=(?, 10), dtype=float32)\n",
      "epochs =  19 step =  500 , loss_val =  2.3137493 [0. 0. 0. 0. 0. 0. 0. 1. 0. 0.] Tensor(\"Placeholder_3:0\", shape=(?, 10), dtype=float32)\n",
      "epochs =  20 step =  0 , loss_val =  2.305329 [0. 0. 0. 0. 0. 0. 1. 0. 0. 0.] Tensor(\"Placeholder_3:0\", shape=(?, 10), dtype=float32)\n"
     ]
    },
    {
     "name": "stdout",
     "output_type": "stream",
     "text": [
      "epochs =  20 step =  100 , loss_val =  2.3054025 [0. 0. 0. 0. 0. 1. 0. 0. 0. 0.] Tensor(\"Placeholder_3:0\", shape=(?, 10), dtype=float32)\n",
      "epochs =  20 step =  200 , loss_val =  2.3042908 [0. 0. 0. 0. 0. 0. 1. 0. 0. 0.] Tensor(\"Placeholder_3:0\", shape=(?, 10), dtype=float32)\n",
      "epochs =  20 step =  300 , loss_val =  2.31039 [0. 0. 0. 0. 0. 1. 0. 0. 0. 0.] Tensor(\"Placeholder_3:0\", shape=(?, 10), dtype=float32)\n",
      "epochs =  20 step =  400 , loss_val =  2.30035 [0. 0. 0. 0. 0. 1. 0. 0. 0. 0.] Tensor(\"Placeholder_3:0\", shape=(?, 10), dtype=float32)\n",
      "epochs =  20 step =  500 , loss_val =  2.2947443 [0. 0. 0. 0. 0. 0. 0. 1. 0. 0.] Tensor(\"Placeholder_3:0\", shape=(?, 10), dtype=float32)\n",
      "epochs =  21 step =  0 , loss_val =  2.3045907 [0. 0. 0. 0. 1. 0. 0. 0. 0. 0.] Tensor(\"Placeholder_3:0\", shape=(?, 10), dtype=float32)\n",
      "epochs =  21 step =  100 , loss_val =  2.3013084 [0. 0. 1. 0. 0. 0. 0. 0. 0. 0.] Tensor(\"Placeholder_3:0\", shape=(?, 10), dtype=float32)\n",
      "epochs =  21 step =  200 , loss_val =  2.2977848 [0. 1. 0. 0. 0. 0. 0. 0. 0. 0.] Tensor(\"Placeholder_3:0\", shape=(?, 10), dtype=float32)\n",
      "epochs =  21 step =  300 , loss_val =  2.3040152 [0. 0. 0. 0. 1. 0. 0. 0. 0. 0.] Tensor(\"Placeholder_3:0\", shape=(?, 10), dtype=float32)\n",
      "epochs =  21 step =  400 , loss_val =  2.3024638 [0. 1. 0. 0. 0. 0. 0. 0. 0. 0.] Tensor(\"Placeholder_3:0\", shape=(?, 10), dtype=float32)\n",
      "epochs =  21 step =  500 , loss_val =  2.301415 [0. 0. 0. 1. 0. 0. 0. 0. 0. 0.] Tensor(\"Placeholder_3:0\", shape=(?, 10), dtype=float32)\n",
      "epochs =  22 step =  0 , loss_val =  2.305607 [0. 0. 0. 0. 0. 0. 1. 0. 0. 0.] Tensor(\"Placeholder_3:0\", shape=(?, 10), dtype=float32)\n",
      "epochs =  22 step =  100 , loss_val =  2.3079703 [0. 0. 0. 0. 0. 0. 0. 1. 0. 0.] Tensor(\"Placeholder_3:0\", shape=(?, 10), dtype=float32)\n",
      "epochs =  22 step =  200 , loss_val =  2.2924325 [0. 0. 0. 0. 1. 0. 0. 0. 0. 0.] Tensor(\"Placeholder_3:0\", shape=(?, 10), dtype=float32)\n"
     ]
    },
    {
     "ename": "KeyboardInterrupt",
     "evalue": "",
     "output_type": "error",
     "traceback": [
      "\u001b[1;31m---------------------------------------------------------------------------\u001b[0m",
      "\u001b[1;31mKeyboardInterrupt\u001b[0m                         Traceback (most recent call last)",
      "\u001b[1;32m<ipython-input-30-7b582e73ad64>\u001b[0m in \u001b[0;36m<module>\u001b[1;34m\u001b[0m\n\u001b[0;32m     21\u001b[0m \u001b[1;33m\u001b[0m\u001b[0m\n\u001b[0;32m     22\u001b[0m             \u001b[0mbatch_x_data\u001b[0m \u001b[1;33m=\u001b[0m \u001b[0mnp\u001b[0m\u001b[1;33m.\u001b[0m\u001b[0marray\u001b[0m\u001b[1;33m(\u001b[0m\u001b[0mx_data\u001b[0m\u001b[1;33m)\u001b[0m\u001b[1;33m\u001b[0m\u001b[1;33m\u001b[0m\u001b[0m\n\u001b[1;32m---> 23\u001b[1;33m             \u001b[0mbatch_t_data\u001b[0m \u001b[1;33m=\u001b[0m \u001b[0mnp\u001b[0m\u001b[1;33m.\u001b[0m\u001b[0marray\u001b[0m\u001b[1;33m(\u001b[0m\u001b[0mt_data\u001b[0m\u001b[1;33m)\u001b[0m\u001b[1;33m\u001b[0m\u001b[1;33m\u001b[0m\u001b[0m\n\u001b[0m\u001b[0;32m     24\u001b[0m \u001b[1;33m\u001b[0m\u001b[0m\n\u001b[0;32m     25\u001b[0m             \u001b[0mbatch_x_data\u001b[0m \u001b[1;33m=\u001b[0m \u001b[0mbatch_x_data\u001b[0m\u001b[1;33m.\u001b[0m\u001b[0mreshape\u001b[0m\u001b[1;33m(\u001b[0m\u001b[1;33m(\u001b[0m\u001b[1;36m100\u001b[0m\u001b[1;33m,\u001b[0m\u001b[1;36m784\u001b[0m\u001b[1;33m)\u001b[0m\u001b[1;33m)\u001b[0m\u001b[1;33m\u001b[0m\u001b[1;33m\u001b[0m\u001b[0m\n",
      "\u001b[1;31mKeyboardInterrupt\u001b[0m: "
     ]
    }
   ],
   "source": [
    "import random\n",
    "with  tf.Session()  as sess:\n",
    "    \n",
    "    sess.run(tf.global_variables_initializer())  # 변수 노드(tf.Variable) 초기화\n",
    "    \n",
    "    for i in range(epochs):    # 100 번 반복수행\n",
    "        \n",
    "        total_batch = int(len(training_data) / batch_size)  # 60,000 / 100\n",
    "\n",
    "        for step in range(total_batch):\n",
    "            \n",
    "            #batch_x_data = train_image[i for i in range(100*(step), 100*(step+1))] 안됨\n",
    "            #batch_t_data = train_label[i for i in range(100*(step), 100*(step+1))]\n",
    "            \n",
    "            x_data = []\n",
    "            t_data = []\n",
    "            \n",
    "            for j in range(100*step, 100*(step+1),1): # 100*784, 100*10\n",
    "                x_data.append(train_image[random.randrange(0,60000)])\n",
    "                t_data.append(train_label[random.randrange(0,60000)])\n",
    "                \n",
    "            batch_x_data = np.array(x_data)\n",
    "            batch_t_data = np.array(t_data)\n",
    "            \n",
    "            batch_x_data = batch_x_data.reshape((100,784))\n",
    "            batch_t_data = batch_t_data.reshape((100,10))\n",
    "      \n",
    "            loss_val, _ = sess.run([loss, train], feed_dict={X: batch_x_data, T: batch_t_data})    \n",
    "        \n",
    "            if step % 100 == 0:\n",
    "                print(\"epochs = \", i , \"step = \", step, \", loss_val = \", loss_val, batch_t_data[0], T)       \n",
    "    \n",
    "    # Accuracy 확인\n",
    "    #test_x_data = mnist.test.images    # 10000 X 784\n",
    "    #test_t_data = mnist.test.labels    # 10000 X 10\n",
    "    \n",
    "    accuracy_val = sess.run(accuracy, feed_dict={X: test_image, T: test_label})\n",
    "    \n",
    "    print(\"\\nAccuracy = \", accuracy_val)"
   ]
  },
  {
   "cell_type": "code",
   "execution_count": null,
   "metadata": {},
   "outputs": [],
   "source": []
  }
 ],
 "metadata": {
  "kernelspec": {
   "display_name": "Python 3",
   "language": "python",
   "name": "python3"
  },
  "language_info": {
   "codemirror_mode": {
    "name": "ipython",
    "version": 3
   },
   "file_extension": ".py",
   "mimetype": "text/x-python",
   "name": "python",
   "nbconvert_exporter": "python",
   "pygments_lexer": "ipython3",
   "version": "3.7.6"
  }
 },
 "nbformat": 4,
 "nbformat_minor": 2
}
