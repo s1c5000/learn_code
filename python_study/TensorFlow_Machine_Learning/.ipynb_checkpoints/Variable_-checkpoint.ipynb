{
 "cells": [
  {
   "cell_type": "code",
   "execution_count": 13,
   "metadata": {},
   "outputs": [],
   "source": [
    "import tensorflow.compat.v1 as tf"
   ]
  },
  {
   "cell_type": "code",
   "execution_count": 14,
   "metadata": {},
   "outputs": [
    {
     "name": "stdout",
     "output_type": "stream",
     "text": [
      "WARNING:tensorflow:From C:\\Users\\LEEMINJUN\\Anaconda3\\lib\\site-packages\\tensorflow_core\\python\\compat\\v2_compat.py:65: disable_resource_variables (from tensorflow.python.ops.variable_scope) is deprecated and will be removed in a future version.\n",
      "Instructions for updating:\n",
      "non-resource variables are not supported in the long term\n"
     ]
    }
   ],
   "source": [
    "tf.disable_v2_behavior()"
   ]
  },
  {
   "cell_type": "code",
   "execution_count": 15,
   "metadata": {},
   "outputs": [
    {
     "name": "stdout",
     "output_type": "stream",
     "text": [
      "WARNING:tensorflow:From C:\\Users\\LEEMINJUN\\Anaconda3\\lib\\site-packages\\tensorflow_core\\python\\ops\\resource_variable_ops.py:1630: calling BaseResourceVariable.__init__ (from tensorflow.python.ops.resource_variable_ops) with constraint is deprecated and will be removed in a future version.\n",
      "Instructions for updating:\n",
      "If using Keras pass *_constraint arguments to layers.\n",
      "step =  0 , W1 =  [0.2539029] , b1 =  [1.7079085]\n",
      "step =  0 , W2 =  [[-0.44515094 -1.168424  ]] , b2 =  [[ 0.89279306 -0.14587593]]\n",
      "step =  1 , W1 =  [-0.7460971] , b1 =  [0.7079085]\n",
      "step =  1 , W2 =  [[-1.445151  -2.1684241]] , b2 =  [[-0.10720694 -1.1458759 ]]\n",
      "step =  2 , W1 =  [-2.746097] , b1 =  [-1.2920915]\n",
      "step =  2 , W2 =  [[-3.4451509 -4.168424 ]] , b2 =  [[-2.1072068 -3.145876 ]]\n"
     ]
    }
   ],
   "source": [
    "# 값이 계속 업데이트되는 변수노드 정의, 가중치나 바이어스 값 처럼 계속 업데이트되는 값들에 사용\n",
    "W1 = tf.Variable(tf.random_normal([1]))  # W1 = np.random.rand(1) 비슷함\n",
    "b1 = tf.Variable(tf.random_normal([1]))  # b1 = np.random.rand(1) 비슷함\n",
    "\n",
    "W2 = tf.Variable(tf.random_normal([1,2]))  # W2 = np.random.rand(1,2) 비슷함\n",
    "b2 = tf.Variable(tf.random_normal([1,2]))  # b2 = np.random.rand(1,2) 비슷함\n",
    "\n",
    "# 세션 생성\n",
    "sess = tf.Session()  \n",
    "\n",
    "# 변수노드 값 초기화. 변수노드를 정의했다면 반드시 필요함\n",
    "sess.run(tf.global_variables_initializer())\n",
    "\n",
    "\n",
    "for step in range(3):    \n",
    "    \n",
    "    W1 = W1 - step    # W1 변수노드 업데이트\n",
    "    b1 = b1 - step    # b1 변수노드 업데이트\n",
    "    \n",
    "    W2 = W2 - step    # W2 변수노드 업데이트\n",
    "    b2 = b2 - step    # b2 변수노드 업데이트\n",
    "    \n",
    "    print(\"step = \", step, \", W1 = \", sess.run(W1), \", b1 = \", sess.run(b1))\n",
    "    print(\"step = \", step, \", W2 = \", sess.run(W2), \", b2 = \", sess.run(b2))\n",
    "\n",
    "# 세션 close\n",
    "sess.close()"
   ]
  },
  {
   "cell_type": "code",
   "execution_count": null,
   "metadata": {},
   "outputs": [],
   "source": []
  }
 ],
 "metadata": {
  "kernelspec": {
   "display_name": "Python 3",
   "language": "python",
   "name": "python3"
  },
  "language_info": {
   "codemirror_mode": {
    "name": "ipython",
    "version": 3
   },
   "file_extension": ".py",
   "mimetype": "text/x-python",
   "name": "python",
   "nbconvert_exporter": "python",
   "pygments_lexer": "ipython3",
   "version": "3.7.6"
  }
 },
 "nbformat": 4,
 "nbformat_minor": 2
}
