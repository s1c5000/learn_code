{
 "cells": [
  {
   "cell_type": "code",
   "execution_count": 1,
   "metadata": {},
   "outputs": [
    {
     "name": "stdout",
     "output_type": "stream",
     "text": [
      "WARNING:tensorflow:From C:\\Users\\LEEMINJUN\\Anaconda3\\lib\\site-packages\\tensorflow_core\\python\\compat\\v2_compat.py:65: disable_resource_variables (from tensorflow.python.ops.variable_scope) is deprecated and will be removed in a future version.\n",
      "Instructions for updating:\n",
      "non-resource variables are not supported in the long term\n"
     ]
    }
   ],
   "source": [
    "import tensorflow.compat.v1 as tf\n",
    "tf.disable_v2_behavior()\n",
    "import numpy as np"
   ]
  },
  {
   "cell_type": "code",
   "execution_count": 2,
   "metadata": {},
   "outputs": [
    {
     "name": "stdout",
     "output_type": "stream",
     "text": [
      "x_data.shape =  (25, 3)\n",
      "t_data.shape =  (25, 1)\n"
     ]
    }
   ],
   "source": [
    "loaded_data = np.loadtxt('C:/Users/LEEMINJUN/python_study/TensorFlow_Machine_Learning/data_test.csv', delimiter=',')\n",
    "\n",
    "x_data = loaded_data[ :, 0:-1]\n",
    "t_data = loaded_data[ :, [-1]]\n",
    "\n",
    "print(\"x_data.shape = \", x_data.shape)\n",
    "print(\"t_data.shape = \", t_data.shape)"
   ]
  },
  {
   "cell_type": "code",
   "execution_count": 3,
   "metadata": {},
   "outputs": [],
   "source": [
    "W = tf.Variable(tf.random_normal([3, 1]))  # 가중치 노드\n",
    "b = tf.Variable(tf.random_normal([1]))     # 바이어스 노드\n",
    "\n",
    "X = tf.placeholder(tf.float32, [None, 3])  # None 은 총 데이터 갯수, 행의 개수가 변할 수 있어서 None을 씀, 열만 맞으면 받아들임\n",
    "T = tf.placeholder(tf.float32, [None, 1])  # 정답데이터 노드"
   ]
  },
  {
   "cell_type": "code",
   "execution_count": 4,
   "metadata": {},
   "outputs": [],
   "source": [
    "y = tf.matmul(X, W) + b  # 현재 X, W, b, 를 바탕으로 계산된 값, np.dot와 비슷 일차함수 구한다.\n",
    "\n",
    "loss = tf.reduce_mean(tf.square(y - T))  # MSE 손실함수 정의 "
   ]
  },
  {
   "cell_type": "code",
   "execution_count": 5,
   "metadata": {},
   "outputs": [],
   "source": [
    "learning_rate = 1e-5    # 학습율\n",
    "\n",
    "optimizer = tf.train.GradientDescentOptimizer(learning_rate) #경사하강법 알고리즘, Grand~~부분을 바꿔서 다른 옵티마이저로 사용가능\n",
    "\n",
    "train = optimizer.minimize(loss) # 옵티마이저를 통한 손실함수의 최솟값"
   ]
  },
  {
   "cell_type": "code",
   "execution_count": 6,
   "metadata": {},
   "outputs": [
    {
     "name": "stdout",
     "output_type": "stream",
     "text": [
      "step =  0 , loss_val =  28945.67\n",
      "step =  400 , loss_val =  86.164665\n",
      "step =  800 , loss_val =  67.721214\n",
      "step =  1200 , loss_val =  53.79621\n",
      "step =  1600 , loss_val =  43.21853\n",
      "step =  2000 , loss_val =  35.135\n",
      "step =  2400 , loss_val =  28.920677\n",
      "step =  2800 , loss_val =  24.115808\n",
      "step =  3200 , loss_val =  20.38025\n",
      "step =  3600 , loss_val =  17.460701\n",
      "step =  4000 , loss_val =  15.167665\n",
      "step =  4400 , loss_val =  13.35846\n",
      "step =  4800 , loss_val =  11.924904\n",
      "step =  5200 , loss_val =  10.78465\n",
      "step =  5600 , loss_val =  9.87449\n",
      "step =  6000 , loss_val =  9.14571\n",
      "step =  6400 , loss_val =  8.560492\n",
      "step =  6800 , loss_val =  8.089374\n",
      "step =  7200 , loss_val =  7.7092814\n",
      "step =  7600 , loss_val =  7.4019966\n",
      "step =  8000 , loss_val =  7.153161\n",
      "\n",
      "Prediction is  [[176.77151]]\n"
     ]
    }
   ],
   "source": [
    "with  tf.Session()  as sess: # with종료시 with안의 리소스 닫는다.\n",
    "    \n",
    "    sess.run(tf.global_variables_initializer())  # 변수 노드(tf.Variable) 초기화\n",
    "\n",
    "    for step in range(8001):\n",
    "        # 연산은 loss, y, train 이 되고 placeholder X,T로 x_data, t_data의 주소를 갖게한다. X,T는 연산에 사용\n",
    "        # loss->loss_val, y -> y_val 에 저장, train은 연산에만 필요하지만 문법을 맙추기위해 어나니머스변수인 _ 사용한다.\n",
    "        loss_val, y_val, _ = sess.run([loss, y, train], feed_dict={X: x_data, T: t_data})    \n",
    "        \n",
    "        \n",
    "        if step % 400 == 0:\n",
    "            print(\"step = \", step, \", loss_val = \", loss_val)             \n",
    "    \n",
    "    print(\"\\nPrediction is \", sess.run(y, feed_dict={X: [ [100, 98, 81] ]})) # 학습한 가중치와 바이어스를 통해 구한 결과값"
   ]
  },
  {
   "cell_type": "code",
   "execution_count": null,
   "metadata": {},
   "outputs": [],
   "source": []
  }
 ],
 "metadata": {
  "kernelspec": {
   "display_name": "Python 3",
   "language": "python",
   "name": "python3"
  },
  "language_info": {
   "codemirror_mode": {
    "name": "ipython",
    "version": 3
   },
   "file_extension": ".py",
   "mimetype": "text/x-python",
   "name": "python",
   "nbconvert_exporter": "python",
   "pygments_lexer": "ipython3",
   "version": "3.7.6"
  }
 },
 "nbformat": 4,
 "nbformat_minor": 2
}
